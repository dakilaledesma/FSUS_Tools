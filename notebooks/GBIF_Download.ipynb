{
  "nbformat": 4,
  "nbformat_minor": 0,
  "metadata": {
    "colab": {
      "name": "GBIF Download",
      "provenance": [],
      "machine_shape": "hm",
      "background_execution": "on",
      "authorship_tag": "ABX9TyOuM6VIyovuhiGqtVYd87if",
      "include_colab_link": true
    },
    "kernelspec": {
      "name": "python3",
      "display_name": "Python 3"
    },
    "language_info": {
      "name": "python"
    },
    "gpuClass": "standard",
    "widgets": {
      "application/vnd.jupyter.widget-state+json": {
        "6893b588ade54149ad47ab36751e93a2": {
          "model_module": "@jupyter-widgets/controls",
          "model_name": "HBoxModel",
          "model_module_version": "1.5.0",
          "state": {
            "_dom_classes": [],
            "_model_module": "@jupyter-widgets/controls",
            "_model_module_version": "1.5.0",
            "_model_name": "HBoxModel",
            "_view_count": null,
            "_view_module": "@jupyter-widgets/controls",
            "_view_module_version": "1.5.0",
            "_view_name": "HBoxView",
            "box_style": "",
            "children": [
              "IPY_MODEL_3f12b00b67ab4b06944ce91742e7e8d1",
              "IPY_MODEL_e8a36cb22e194ce0ad98cf8ac86871bb",
              "IPY_MODEL_1c8d27371d1148ac960787f93d0b156f"
            ],
            "layout": "IPY_MODEL_cbce901a5c1c4f50b0da82dbc44f9823"
          }
        },
        "3f12b00b67ab4b06944ce91742e7e8d1": {
          "model_module": "@jupyter-widgets/controls",
          "model_name": "HTMLModel",
          "model_module_version": "1.5.0",
          "state": {
            "_dom_classes": [],
            "_model_module": "@jupyter-widgets/controls",
            "_model_module_version": "1.5.0",
            "_model_name": "HTMLModel",
            "_view_count": null,
            "_view_module": "@jupyter-widgets/controls",
            "_view_module_version": "1.5.0",
            "_view_name": "HTMLView",
            "description": "",
            "description_tooltip": null,
            "layout": "IPY_MODEL_32503c11a34a4f469ee32462145b1af9",
            "placeholder": "​",
            "style": "IPY_MODEL_6739c346f5704852a56a9ffed5f5d826",
            "value": "  0%"
          }
        },
        "e8a36cb22e194ce0ad98cf8ac86871bb": {
          "model_module": "@jupyter-widgets/controls",
          "model_name": "FloatProgressModel",
          "model_module_version": "1.5.0",
          "state": {
            "_dom_classes": [],
            "_model_module": "@jupyter-widgets/controls",
            "_model_module_version": "1.5.0",
            "_model_name": "FloatProgressModel",
            "_view_count": null,
            "_view_module": "@jupyter-widgets/controls",
            "_view_module_version": "1.5.0",
            "_view_name": "ProgressView",
            "bar_style": "",
            "description": "",
            "description_tooltip": null,
            "layout": "IPY_MODEL_2e7c6326742444b6a7cc90b0adebfd02",
            "max": 122925,
            "min": 0,
            "orientation": "horizontal",
            "style": "IPY_MODEL_8f9fc92eee0f499d9bc5b562f6a35e53",
            "value": 368
          }
        },
        "1c8d27371d1148ac960787f93d0b156f": {
          "model_module": "@jupyter-widgets/controls",
          "model_name": "HTMLModel",
          "model_module_version": "1.5.0",
          "state": {
            "_dom_classes": [],
            "_model_module": "@jupyter-widgets/controls",
            "_model_module_version": "1.5.0",
            "_model_name": "HTMLModel",
            "_view_count": null,
            "_view_module": "@jupyter-widgets/controls",
            "_view_module_version": "1.5.0",
            "_view_name": "HTMLView",
            "description": "",
            "description_tooltip": null,
            "layout": "IPY_MODEL_fdccfd0f65aa48aa8d4ce8a7e5f4efe4",
            "placeholder": "​",
            "style": "IPY_MODEL_5a7abf0486e744e88a9822c94ceabe04",
            "value": " 368/122925 [02:46&lt;17:00:41,  2.00it/s]"
          }
        },
        "cbce901a5c1c4f50b0da82dbc44f9823": {
          "model_module": "@jupyter-widgets/base",
          "model_name": "LayoutModel",
          "model_module_version": "1.2.0",
          "state": {
            "_model_module": "@jupyter-widgets/base",
            "_model_module_version": "1.2.0",
            "_model_name": "LayoutModel",
            "_view_count": null,
            "_view_module": "@jupyter-widgets/base",
            "_view_module_version": "1.2.0",
            "_view_name": "LayoutView",
            "align_content": null,
            "align_items": null,
            "align_self": null,
            "border": null,
            "bottom": null,
            "display": null,
            "flex": null,
            "flex_flow": null,
            "grid_area": null,
            "grid_auto_columns": null,
            "grid_auto_flow": null,
            "grid_auto_rows": null,
            "grid_column": null,
            "grid_gap": null,
            "grid_row": null,
            "grid_template_areas": null,
            "grid_template_columns": null,
            "grid_template_rows": null,
            "height": null,
            "justify_content": null,
            "justify_items": null,
            "left": null,
            "margin": null,
            "max_height": null,
            "max_width": null,
            "min_height": null,
            "min_width": null,
            "object_fit": null,
            "object_position": null,
            "order": null,
            "overflow": null,
            "overflow_x": null,
            "overflow_y": null,
            "padding": null,
            "right": null,
            "top": null,
            "visibility": null,
            "width": null
          }
        },
        "32503c11a34a4f469ee32462145b1af9": {
          "model_module": "@jupyter-widgets/base",
          "model_name": "LayoutModel",
          "model_module_version": "1.2.0",
          "state": {
            "_model_module": "@jupyter-widgets/base",
            "_model_module_version": "1.2.0",
            "_model_name": "LayoutModel",
            "_view_count": null,
            "_view_module": "@jupyter-widgets/base",
            "_view_module_version": "1.2.0",
            "_view_name": "LayoutView",
            "align_content": null,
            "align_items": null,
            "align_self": null,
            "border": null,
            "bottom": null,
            "display": null,
            "flex": null,
            "flex_flow": null,
            "grid_area": null,
            "grid_auto_columns": null,
            "grid_auto_flow": null,
            "grid_auto_rows": null,
            "grid_column": null,
            "grid_gap": null,
            "grid_row": null,
            "grid_template_areas": null,
            "grid_template_columns": null,
            "grid_template_rows": null,
            "height": null,
            "justify_content": null,
            "justify_items": null,
            "left": null,
            "margin": null,
            "max_height": null,
            "max_width": null,
            "min_height": null,
            "min_width": null,
            "object_fit": null,
            "object_position": null,
            "order": null,
            "overflow": null,
            "overflow_x": null,
            "overflow_y": null,
            "padding": null,
            "right": null,
            "top": null,
            "visibility": null,
            "width": null
          }
        },
        "6739c346f5704852a56a9ffed5f5d826": {
          "model_module": "@jupyter-widgets/controls",
          "model_name": "DescriptionStyleModel",
          "model_module_version": "1.5.0",
          "state": {
            "_model_module": "@jupyter-widgets/controls",
            "_model_module_version": "1.5.0",
            "_model_name": "DescriptionStyleModel",
            "_view_count": null,
            "_view_module": "@jupyter-widgets/base",
            "_view_module_version": "1.2.0",
            "_view_name": "StyleView",
            "description_width": ""
          }
        },
        "2e7c6326742444b6a7cc90b0adebfd02": {
          "model_module": "@jupyter-widgets/base",
          "model_name": "LayoutModel",
          "model_module_version": "1.2.0",
          "state": {
            "_model_module": "@jupyter-widgets/base",
            "_model_module_version": "1.2.0",
            "_model_name": "LayoutModel",
            "_view_count": null,
            "_view_module": "@jupyter-widgets/base",
            "_view_module_version": "1.2.0",
            "_view_name": "LayoutView",
            "align_content": null,
            "align_items": null,
            "align_self": null,
            "border": null,
            "bottom": null,
            "display": null,
            "flex": null,
            "flex_flow": null,
            "grid_area": null,
            "grid_auto_columns": null,
            "grid_auto_flow": null,
            "grid_auto_rows": null,
            "grid_column": null,
            "grid_gap": null,
            "grid_row": null,
            "grid_template_areas": null,
            "grid_template_columns": null,
            "grid_template_rows": null,
            "height": null,
            "justify_content": null,
            "justify_items": null,
            "left": null,
            "margin": null,
            "max_height": null,
            "max_width": null,
            "min_height": null,
            "min_width": null,
            "object_fit": null,
            "object_position": null,
            "order": null,
            "overflow": null,
            "overflow_x": null,
            "overflow_y": null,
            "padding": null,
            "right": null,
            "top": null,
            "visibility": null,
            "width": null
          }
        },
        "8f9fc92eee0f499d9bc5b562f6a35e53": {
          "model_module": "@jupyter-widgets/controls",
          "model_name": "ProgressStyleModel",
          "model_module_version": "1.5.0",
          "state": {
            "_model_module": "@jupyter-widgets/controls",
            "_model_module_version": "1.5.0",
            "_model_name": "ProgressStyleModel",
            "_view_count": null,
            "_view_module": "@jupyter-widgets/base",
            "_view_module_version": "1.2.0",
            "_view_name": "StyleView",
            "bar_color": null,
            "description_width": ""
          }
        },
        "fdccfd0f65aa48aa8d4ce8a7e5f4efe4": {
          "model_module": "@jupyter-widgets/base",
          "model_name": "LayoutModel",
          "model_module_version": "1.2.0",
          "state": {
            "_model_module": "@jupyter-widgets/base",
            "_model_module_version": "1.2.0",
            "_model_name": "LayoutModel",
            "_view_count": null,
            "_view_module": "@jupyter-widgets/base",
            "_view_module_version": "1.2.0",
            "_view_name": "LayoutView",
            "align_content": null,
            "align_items": null,
            "align_self": null,
            "border": null,
            "bottom": null,
            "display": null,
            "flex": null,
            "flex_flow": null,
            "grid_area": null,
            "grid_auto_columns": null,
            "grid_auto_flow": null,
            "grid_auto_rows": null,
            "grid_column": null,
            "grid_gap": null,
            "grid_row": null,
            "grid_template_areas": null,
            "grid_template_columns": null,
            "grid_template_rows": null,
            "height": null,
            "justify_content": null,
            "justify_items": null,
            "left": null,
            "margin": null,
            "max_height": null,
            "max_width": null,
            "min_height": null,
            "min_width": null,
            "object_fit": null,
            "object_position": null,
            "order": null,
            "overflow": null,
            "overflow_x": null,
            "overflow_y": null,
            "padding": null,
            "right": null,
            "top": null,
            "visibility": null,
            "width": null
          }
        },
        "5a7abf0486e744e88a9822c94ceabe04": {
          "model_module": "@jupyter-widgets/controls",
          "model_name": "DescriptionStyleModel",
          "model_module_version": "1.5.0",
          "state": {
            "_model_module": "@jupyter-widgets/controls",
            "_model_module_version": "1.5.0",
            "_model_name": "DescriptionStyleModel",
            "_view_count": null,
            "_view_module": "@jupyter-widgets/base",
            "_view_module_version": "1.2.0",
            "_view_name": "StyleView",
            "description_width": ""
          }
        }
      }
    }
  },
  "cells": [
    {
      "cell_type": "markdown",
      "metadata": {
        "id": "view-in-github",
        "colab_type": "text"
      },
      "source": [
        "<a href=\"https://colab.research.google.com/github/dakilaledesma/FSUS_Tools/blob/main/notebooks/GBIF_Download.ipynb\" target=\"_parent\"><img src=\"https://colab.research.google.com/assets/colab-badge.svg\" alt=\"Open In Colab\"/></a>"
      ]
    },
    {
      "cell_type": "code",
      "execution_count": 1,
      "metadata": {
        "colab": {
          "base_uri": "https://localhost:8080/"
        },
        "id": "fKrZoC3qIXnF",
        "outputId": "cbbcaa8c-08cd-4b73-9216-6442f3fe6c89"
      },
      "outputs": [
        {
          "output_type": "stream",
          "name": "stdout",
          "text": [
            "--2022-08-05 20:35:54--  https://api.gbif.org/v1/occurrence/download/request/0417084-210914110416597.zip\n",
            "Resolving api.gbif.org (api.gbif.org)... 130.225.43.2\n",
            "Connecting to api.gbif.org (api.gbif.org)|130.225.43.2|:443... connected.\n",
            "HTTP request sent, awaiting response... 302 Found\n",
            "Location: https://occurrence-download.gbif.org/occurrence/download/request/0417084-210914110416597.zip [following]\n",
            "--2022-08-05 20:35:54--  https://occurrence-download.gbif.org/occurrence/download/request/0417084-210914110416597.zip\n",
            "Resolving occurrence-download.gbif.org (occurrence-download.gbif.org)... 130.225.43.36\n",
            "Connecting to occurrence-download.gbif.org (occurrence-download.gbif.org)|130.225.43.36|:443... connected.\n",
            "HTTP request sent, awaiting response... 200 OK\n",
            "Length: 47415891 (45M) [application/octet-stream]\n",
            "Saving to: ‘0417084-210914110416597.zip’\n",
            "\n",
            "0417084-21091411041 100%[===================>]  45.22M  15.4MB/s    in 2.9s    \n",
            "\n",
            "2022-08-05 20:35:58 (15.4 MB/s) - ‘0417084-210914110416597.zip’ saved [47415891/47415891]\n",
            "\n"
          ]
        }
      ],
      "source": [
        "! wget https://api.gbif.org/v1/occurrence/download/request/0417084-210914110416597.zip"
      ]
    },
    {
      "cell_type": "code",
      "source": [
        "%%time\n",
        "! unzip -q 0417084-210914110416597.zip -d /content/"
      ],
      "metadata": {
        "colab": {
          "base_uri": "https://localhost:8080/"
        },
        "id": "hvZCKmYWIdcO",
        "outputId": "9dc6042b-da43-4339-fe4e-56adb33b8dce"
      },
      "execution_count": 2,
      "outputs": [
        {
          "output_type": "stream",
          "name": "stdout",
          "text": [
            "CPU times: user 23.8 ms, sys: 3.79 ms, total: 27.6 ms\n",
            "Wall time: 2.32 s\n"
          ]
        }
      ]
    },
    {
      "cell_type": "code",
      "source": [
        "import pandas as pd\n",
        "\n",
        "occurrence_df = pd.read_csv(\"occurrence.txt\", delimiter=\"\\t\", encoding=\"latin-1\", on_bad_lines=\"skip\")"
      ],
      "metadata": {
        "colab": {
          "base_uri": "https://localhost:8080/"
        },
        "id": "bBBwaZTdIz1S",
        "outputId": "6153daa8-22ba-45bc-9320-539c267c7499"
      },
      "execution_count": 4,
      "outputs": [
        {
          "output_type": "stream",
          "name": "stderr",
          "text": [
            "/usr/local/lib/python3.7/dist-packages/IPython/core/interactiveshell.py:2882: DtypeWarning: Columns (2,9,26,35,46,47,54,56,58,60,61,62,64,65,66,68,71,75,76,77,79,82,84,85,86,87,88,89,90,91,92,96,98,99,101,103,109,111,115,116,117,118,119,120,121,122,123,127,129,135,136,142,143,144,145,147,148,149,150,151,156,165,170,171,172,173,175,177,178,179,180,183,185,186,187,189,190,193,194,195,204,205,210,211,212,214,215,220,221,222,223,227,228,229,230,233,242,246) have mixed types.Specify dtype option on import or set low_memory=False.\n",
            "  exec(code_obj, self.user_global_ns, self.user_ns)\n"
          ]
        }
      ]
    },
    {
      "cell_type": "code",
      "source": [
        "name_list = occurrence_df.columns\n",
        "occurrence_df = pd.read_csv(\"occurrence.txt\", delimiter=\"\\t\", encoding=\"latin-1\", names=name_list)"
      ],
      "metadata": {
        "colab": {
          "base_uri": "https://localhost:8080/"
        },
        "id": "upAe21EBJZHr",
        "outputId": "5e3581dd-9c95-4621-d4f8-28d01e22623b"
      },
      "execution_count": 5,
      "outputs": [
        {
          "output_type": "stream",
          "name": "stderr",
          "text": [
            "/usr/local/lib/python3.7/dist-packages/IPython/core/interactiveshell.py:2882: DtypeWarning: Columns (0,1,2,3,4,5,6,7,8,9,10,11,12,13,14,15,16,17,18,19,20,21,22,23,24,25,26,27,28,29,30,31,32,33,34,35,37,38,40,42,43,44,45,46,47,48,49,50,51,52,53,54,55,56,58,60,61,62,64,65,66,68,69,71,72,73,74,75,76,77,78,79,80,81,82,84,85,86,87,88,89,90,91,92,93,94,95,96,97,98,99,100,101,103,104,105,106,107,108,109,111,112,113,114,115,116,117,118,119,120,121,122,123,127,128,129,130,131,132,133,134,135,136,137,138,139,140,141,142,143,144,145,146,147,148,149,150,151,152,153,154,155,156,157,158,159,160,161,162,163,164,165,166,167,168,169,170,171,172,173,175,176,177,178,179,180,181,182,183,184,185,186,187,189,190,191,192,193,194,195,201,204,205,207,208,210,211,212,214,215,219,220,221,222,223,224,225,227,228,229,230,231,232,233,234,235,236,237,238,242,246,247,248,249,250,251,252,253,254,255) have mixed types.Specify dtype option on import or set low_memory=False.\n",
            "  exec(code_obj, self.user_global_ns, self.user_ns)\n"
          ]
        }
      ]
    },
    {
      "cell_type": "code",
      "source": [
        "occurrence_df = pd.DataFrame(occurrence_df.values[1:], columns=name_list)"
      ],
      "metadata": {
        "id": "i74dSHjzMeU6"
      },
      "execution_count": 6,
      "outputs": []
    },
    {
      "cell_type": "code",
      "source": [
        "multimedia_df = pd.read_csv(\"multimedia.txt\", delimiter=\"\\t\", encoding=\"latin-1\")"
      ],
      "metadata": {
        "id": "A99q3oNtKhHK"
      },
      "execution_count": 7,
      "outputs": []
    },
    {
      "cell_type": "code",
      "source": [
        "pd.set_option('display.max_rows', None)\n",
        "pd.set_option('display.max_columns', None)\n",
        "pd.set_option('display.width', None)\n",
        "pd.set_option('display.max_colwidth', -1)"
      ],
      "metadata": {
        "colab": {
          "base_uri": "https://localhost:8080/"
        },
        "id": "TO7KM7EiNEAM",
        "outputId": "ddb8550d-3f9e-4980-da89-98b7c0868fdc"
      },
      "execution_count": 8,
      "outputs": [
        {
          "output_type": "stream",
          "name": "stderr",
          "text": [
            "/usr/local/lib/python3.7/dist-packages/ipykernel_launcher.py:4: FutureWarning: Passing a negative integer is deprecated in version 1.0 and will not be supported in future version. Instead, use None to not limit the column width.\n",
            "  after removing the cwd from sys.path.\n"
          ]
        }
      ]
    },
    {
      "cell_type": "code",
      "source": [
        "id_to_sp = {}\n",
        "for idx, row in occurrence_df.iterrows():\n",
        "  id_to_sp[row[\"gbifID\"]] = row[\"acceptedScientificName\"]"
      ],
      "metadata": {
        "id": "07n1AzmxLF1x"
      },
      "execution_count": 9,
      "outputs": []
    },
    {
      "cell_type": "code",
      "source": [
        "import os\n",
        "from tqdm.notebook import tqdm\n",
        "from urllib import request\n",
        "import time\n",
        "from joblib import Parallel, delayed\n",
        "\n",
        "rand_df = multimedia_df.sample(frac=1).reset_index(drop=True)\n",
        "def get_ims(idx, row):\n",
        "# for idx, row in tqdm(rand_df.iterrows(), total=len(rand_df)):\n",
        "  id = row[\"gbifID\"]\n",
        "  try:\n",
        "    sp = id_to_sp[id]\n",
        "  except:\n",
        "    return\n",
        "  im_url = row[\"identifier\"]\n",
        "  \n",
        "\n",
        "  try:\n",
        "    filename = request.urlopen(request.Request(im_url)).url\n",
        "  except:\n",
        "    return\n",
        "  bn = os.path.basename(filename)\n",
        "  path = f\"images/{sp}\"\n",
        "\n",
        "  if not os.path.isdir(path):\n",
        "    os.makedirs(path)\n",
        "\n",
        "  try:\n",
        "    request.urlretrieve(im_url, f\"{path}/{bn}\")\n",
        "  except:\n",
        "    pass\n",
        "\n",
        "  return\n",
        "\n",
        "Parallel(n_jobs=8)(delayed(get_ims)(idx, row) for idx, row in tqdm(rand_df.iterrows(), total=len(rand_df)))"
      ],
      "metadata": {
        "id": "7XAaKCbXUh6L",
        "colab": {
          "base_uri": "https://localhost:8080/",
          "height": 49,
          "referenced_widgets": [
            "6893b588ade54149ad47ab36751e93a2",
            "3f12b00b67ab4b06944ce91742e7e8d1",
            "e8a36cb22e194ce0ad98cf8ac86871bb",
            "1c8d27371d1148ac960787f93d0b156f",
            "cbce901a5c1c4f50b0da82dbc44f9823",
            "32503c11a34a4f469ee32462145b1af9",
            "6739c346f5704852a56a9ffed5f5d826",
            "2e7c6326742444b6a7cc90b0adebfd02",
            "8f9fc92eee0f499d9bc5b562f6a35e53",
            "fdccfd0f65aa48aa8d4ce8a7e5f4efe4",
            "5a7abf0486e744e88a9822c94ceabe04"
          ]
        },
        "outputId": "1c0f7af3-473b-4761-9cd8-2611e74f8f01"
      },
      "execution_count": null,
      "outputs": [
        {
          "output_type": "display_data",
          "data": {
            "text/plain": [
              "  0%|          | 0/122925 [00:00<?, ?it/s]"
            ],
            "application/vnd.jupyter.widget-view+json": {
              "version_major": 2,
              "version_minor": 0,
              "model_id": "6893b588ade54149ad47ab36751e93a2"
            }
          },
          "metadata": {}
        }
      ]
    },
    {
      "cell_type": "code",
      "source": [
        ""
      ],
      "metadata": {
        "id": "DyeZU2ngtJL3"
      },
      "execution_count": null,
      "outputs": []
    }
  ]
}