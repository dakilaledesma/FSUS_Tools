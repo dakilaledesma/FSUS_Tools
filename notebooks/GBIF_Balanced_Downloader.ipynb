{
  "nbformat": 4,
  "nbformat_minor": 0,
  "metadata": {
    "colab": {
      "name": "GBIF Balanced Downloader",
      "provenance": [],
      "machine_shape": "hm",
      "background_execution": "on",
      "mount_file_id": "1HLpHw9mQzEbagDZww1G8kVaDc4KSBNna",
      "authorship_tag": "ABX9TyPZqpNbuy/eHL4fIbvqyF1v",
      "include_colab_link": true
    },
    "kernelspec": {
      "name": "python3",
      "display_name": "Python 3"
    },
    "language_info": {
      "name": "python"
    },
    "gpuClass": "standard",
    "widgets": {
      "application/vnd.jupyter.widget-state+json": {
        "9be4f2d6285a432fa9db10770de95947": {
          "model_module": "@jupyter-widgets/controls",
          "model_name": "HBoxModel",
          "model_module_version": "1.5.0",
          "state": {
            "_dom_classes": [],
            "_model_module": "@jupyter-widgets/controls",
            "_model_module_version": "1.5.0",
            "_model_name": "HBoxModel",
            "_view_count": null,
            "_view_module": "@jupyter-widgets/controls",
            "_view_module_version": "1.5.0",
            "_view_name": "HBoxView",
            "box_style": "",
            "children": [
              "IPY_MODEL_94fe55e9e8bf4138be86fb468541f7d9",
              "IPY_MODEL_4014e38b4ef442c1a0bb137ebfa2e37e",
              "IPY_MODEL_70aec790d99543c9bcdcb9591e75837d"
            ],
            "layout": "IPY_MODEL_4df73402a9d2413cbd4b665f41cb275d"
          }
        },
        "94fe55e9e8bf4138be86fb468541f7d9": {
          "model_module": "@jupyter-widgets/controls",
          "model_name": "HTMLModel",
          "model_module_version": "1.5.0",
          "state": {
            "_dom_classes": [],
            "_model_module": "@jupyter-widgets/controls",
            "_model_module_version": "1.5.0",
            "_model_name": "HTMLModel",
            "_view_count": null,
            "_view_module": "@jupyter-widgets/controls",
            "_view_module_version": "1.5.0",
            "_view_name": "HTMLView",
            "description": "",
            "description_tooltip": null,
            "layout": "IPY_MODEL_58f85ff347a04cfcb826bc3f88082ad5",
            "placeholder": "​",
            "style": "IPY_MODEL_8448b5e66a8c49e4949a315f3a8fbfbc",
            "value": "  0%"
          }
        },
        "4014e38b4ef442c1a0bb137ebfa2e37e": {
          "model_module": "@jupyter-widgets/controls",
          "model_name": "FloatProgressModel",
          "model_module_version": "1.5.0",
          "state": {
            "_dom_classes": [],
            "_model_module": "@jupyter-widgets/controls",
            "_model_module_version": "1.5.0",
            "_model_name": "FloatProgressModel",
            "_view_count": null,
            "_view_module": "@jupyter-widgets/controls",
            "_view_module_version": "1.5.0",
            "_view_name": "ProgressView",
            "bar_style": "",
            "description": "",
            "description_tooltip": null,
            "layout": "IPY_MODEL_56735d4b305340ba826b23e3e2adaa7b",
            "max": 122925,
            "min": 0,
            "orientation": "horizontal",
            "style": "IPY_MODEL_68d2c0a8a6f6401fb416516fcf57d7f4",
            "value": 344
          }
        },
        "70aec790d99543c9bcdcb9591e75837d": {
          "model_module": "@jupyter-widgets/controls",
          "model_name": "HTMLModel",
          "model_module_version": "1.5.0",
          "state": {
            "_dom_classes": [],
            "_model_module": "@jupyter-widgets/controls",
            "_model_module_version": "1.5.0",
            "_model_name": "HTMLModel",
            "_view_count": null,
            "_view_module": "@jupyter-widgets/controls",
            "_view_module_version": "1.5.0",
            "_view_name": "HTMLView",
            "description": "",
            "description_tooltip": null,
            "layout": "IPY_MODEL_60edf3940de64ebfa06beaa54cef18fc",
            "placeholder": "​",
            "style": "IPY_MODEL_22718a156846474da0c6c7299d182619",
            "value": " 344/122925 [02:07&lt;14:46:10,  2.31it/s]"
          }
        },
        "4df73402a9d2413cbd4b665f41cb275d": {
          "model_module": "@jupyter-widgets/base",
          "model_name": "LayoutModel",
          "model_module_version": "1.2.0",
          "state": {
            "_model_module": "@jupyter-widgets/base",
            "_model_module_version": "1.2.0",
            "_model_name": "LayoutModel",
            "_view_count": null,
            "_view_module": "@jupyter-widgets/base",
            "_view_module_version": "1.2.0",
            "_view_name": "LayoutView",
            "align_content": null,
            "align_items": null,
            "align_self": null,
            "border": null,
            "bottom": null,
            "display": null,
            "flex": null,
            "flex_flow": null,
            "grid_area": null,
            "grid_auto_columns": null,
            "grid_auto_flow": null,
            "grid_auto_rows": null,
            "grid_column": null,
            "grid_gap": null,
            "grid_row": null,
            "grid_template_areas": null,
            "grid_template_columns": null,
            "grid_template_rows": null,
            "height": null,
            "justify_content": null,
            "justify_items": null,
            "left": null,
            "margin": null,
            "max_height": null,
            "max_width": null,
            "min_height": null,
            "min_width": null,
            "object_fit": null,
            "object_position": null,
            "order": null,
            "overflow": null,
            "overflow_x": null,
            "overflow_y": null,
            "padding": null,
            "right": null,
            "top": null,
            "visibility": null,
            "width": null
          }
        },
        "58f85ff347a04cfcb826bc3f88082ad5": {
          "model_module": "@jupyter-widgets/base",
          "model_name": "LayoutModel",
          "model_module_version": "1.2.0",
          "state": {
            "_model_module": "@jupyter-widgets/base",
            "_model_module_version": "1.2.0",
            "_model_name": "LayoutModel",
            "_view_count": null,
            "_view_module": "@jupyter-widgets/base",
            "_view_module_version": "1.2.0",
            "_view_name": "LayoutView",
            "align_content": null,
            "align_items": null,
            "align_self": null,
            "border": null,
            "bottom": null,
            "display": null,
            "flex": null,
            "flex_flow": null,
            "grid_area": null,
            "grid_auto_columns": null,
            "grid_auto_flow": null,
            "grid_auto_rows": null,
            "grid_column": null,
            "grid_gap": null,
            "grid_row": null,
            "grid_template_areas": null,
            "grid_template_columns": null,
            "grid_template_rows": null,
            "height": null,
            "justify_content": null,
            "justify_items": null,
            "left": null,
            "margin": null,
            "max_height": null,
            "max_width": null,
            "min_height": null,
            "min_width": null,
            "object_fit": null,
            "object_position": null,
            "order": null,
            "overflow": null,
            "overflow_x": null,
            "overflow_y": null,
            "padding": null,
            "right": null,
            "top": null,
            "visibility": null,
            "width": null
          }
        },
        "8448b5e66a8c49e4949a315f3a8fbfbc": {
          "model_module": "@jupyter-widgets/controls",
          "model_name": "DescriptionStyleModel",
          "model_module_version": "1.5.0",
          "state": {
            "_model_module": "@jupyter-widgets/controls",
            "_model_module_version": "1.5.0",
            "_model_name": "DescriptionStyleModel",
            "_view_count": null,
            "_view_module": "@jupyter-widgets/base",
            "_view_module_version": "1.2.0",
            "_view_name": "StyleView",
            "description_width": ""
          }
        },
        "56735d4b305340ba826b23e3e2adaa7b": {
          "model_module": "@jupyter-widgets/base",
          "model_name": "LayoutModel",
          "model_module_version": "1.2.0",
          "state": {
            "_model_module": "@jupyter-widgets/base",
            "_model_module_version": "1.2.0",
            "_model_name": "LayoutModel",
            "_view_count": null,
            "_view_module": "@jupyter-widgets/base",
            "_view_module_version": "1.2.0",
            "_view_name": "LayoutView",
            "align_content": null,
            "align_items": null,
            "align_self": null,
            "border": null,
            "bottom": null,
            "display": null,
            "flex": null,
            "flex_flow": null,
            "grid_area": null,
            "grid_auto_columns": null,
            "grid_auto_flow": null,
            "grid_auto_rows": null,
            "grid_column": null,
            "grid_gap": null,
            "grid_row": null,
            "grid_template_areas": null,
            "grid_template_columns": null,
            "grid_template_rows": null,
            "height": null,
            "justify_content": null,
            "justify_items": null,
            "left": null,
            "margin": null,
            "max_height": null,
            "max_width": null,
            "min_height": null,
            "min_width": null,
            "object_fit": null,
            "object_position": null,
            "order": null,
            "overflow": null,
            "overflow_x": null,
            "overflow_y": null,
            "padding": null,
            "right": null,
            "top": null,
            "visibility": null,
            "width": null
          }
        },
        "68d2c0a8a6f6401fb416516fcf57d7f4": {
          "model_module": "@jupyter-widgets/controls",
          "model_name": "ProgressStyleModel",
          "model_module_version": "1.5.0",
          "state": {
            "_model_module": "@jupyter-widgets/controls",
            "_model_module_version": "1.5.0",
            "_model_name": "ProgressStyleModel",
            "_view_count": null,
            "_view_module": "@jupyter-widgets/base",
            "_view_module_version": "1.2.0",
            "_view_name": "StyleView",
            "bar_color": null,
            "description_width": ""
          }
        },
        "60edf3940de64ebfa06beaa54cef18fc": {
          "model_module": "@jupyter-widgets/base",
          "model_name": "LayoutModel",
          "model_module_version": "1.2.0",
          "state": {
            "_model_module": "@jupyter-widgets/base",
            "_model_module_version": "1.2.0",
            "_model_name": "LayoutModel",
            "_view_count": null,
            "_view_module": "@jupyter-widgets/base",
            "_view_module_version": "1.2.0",
            "_view_name": "LayoutView",
            "align_content": null,
            "align_items": null,
            "align_self": null,
            "border": null,
            "bottom": null,
            "display": null,
            "flex": null,
            "flex_flow": null,
            "grid_area": null,
            "grid_auto_columns": null,
            "grid_auto_flow": null,
            "grid_auto_rows": null,
            "grid_column": null,
            "grid_gap": null,
            "grid_row": null,
            "grid_template_areas": null,
            "grid_template_columns": null,
            "grid_template_rows": null,
            "height": null,
            "justify_content": null,
            "justify_items": null,
            "left": null,
            "margin": null,
            "max_height": null,
            "max_width": null,
            "min_height": null,
            "min_width": null,
            "object_fit": null,
            "object_position": null,
            "order": null,
            "overflow": null,
            "overflow_x": null,
            "overflow_y": null,
            "padding": null,
            "right": null,
            "top": null,
            "visibility": null,
            "width": null
          }
        },
        "22718a156846474da0c6c7299d182619": {
          "model_module": "@jupyter-widgets/controls",
          "model_name": "DescriptionStyleModel",
          "model_module_version": "1.5.0",
          "state": {
            "_model_module": "@jupyter-widgets/controls",
            "_model_module_version": "1.5.0",
            "_model_name": "DescriptionStyleModel",
            "_view_count": null,
            "_view_module": "@jupyter-widgets/base",
            "_view_module_version": "1.2.0",
            "_view_name": "StyleView",
            "description_width": ""
          }
        }
      }
    }
  },
  "cells": [
    {
      "cell_type": "markdown",
      "metadata": {
        "id": "view-in-github",
        "colab_type": "text"
      },
      "source": [
        "<a href=\"https://colab.research.google.com/github/dakilaledesma/FSUS_Tools/blob/main/notebooks/GBIF_Balanced_Downloader.ipynb\" target=\"_parent\"><img src=\"https://colab.research.google.com/assets/colab-badge.svg\" alt=\"Open In Colab\"/></a>"
      ]
    },
    {
      "cell_type": "code",
      "execution_count": 1,
      "metadata": {
        "colab": {
          "base_uri": "https://localhost:8080/"
        },
        "id": "fKrZoC3qIXnF",
        "outputId": "a35823f0-0763-47bc-e5dd-f5fab160952c"
      },
      "outputs": [
        {
          "output_type": "stream",
          "name": "stdout",
          "text": [
            "--2022-08-07 21:10:39--  https://api.gbif.org/v1/occurrence/download/request/0417084-210914110416597.zip\n",
            "Resolving api.gbif.org (api.gbif.org)... 130.225.43.2\n",
            "Connecting to api.gbif.org (api.gbif.org)|130.225.43.2|:443... connected.\n",
            "HTTP request sent, awaiting response... 302 Found\n",
            "Location: https://occurrence-download.gbif.org/occurrence/download/request/0417084-210914110416597.zip [following]\n",
            "--2022-08-07 21:10:40--  https://occurrence-download.gbif.org/occurrence/download/request/0417084-210914110416597.zip\n",
            "Resolving occurrence-download.gbif.org (occurrence-download.gbif.org)... 130.225.43.36\n",
            "Connecting to occurrence-download.gbif.org (occurrence-download.gbif.org)|130.225.43.36|:443... connected.\n",
            "HTTP request sent, awaiting response... 200 OK\n",
            "Length: 47415891 (45M) [application/octet-stream]\n",
            "Saving to: ‘0417084-210914110416597.zip’\n",
            "\n",
            "0417084-21091411041 100%[===================>]  45.22M  19.5MB/s    in 2.3s    \n",
            "\n",
            "2022-08-07 21:10:43 (19.5 MB/s) - ‘0417084-210914110416597.zip’ saved [47415891/47415891]\n",
            "\n"
          ]
        }
      ],
      "source": [
        "! wget https://api.gbif.org/v1/occurrence/download/request/0417084-210914110416597.zip"
      ]
    },
    {
      "cell_type": "code",
      "source": [
        "%%time\n",
        "! unzip -q 0417084-210914110416597.zip -d /content/"
      ],
      "metadata": {
        "colab": {
          "base_uri": "https://localhost:8080/"
        },
        "id": "hvZCKmYWIdcO",
        "outputId": "85d21b59-efe7-4fcf-8c1c-c58f0a0369d0"
      },
      "execution_count": 2,
      "outputs": [
        {
          "output_type": "stream",
          "name": "stdout",
          "text": [
            "CPU times: user 24.1 ms, sys: 10 ms, total: 34.2 ms\n",
            "Wall time: 2.32 s\n"
          ]
        }
      ]
    },
    {
      "cell_type": "code",
      "source": [
        "import pandas as pd\n",
        "\n",
        "occurrence_df = pd.read_csv(\"occurrence.txt\", delimiter=\"\\t\", encoding=\"latin-1\", on_bad_lines=\"skip\")"
      ],
      "metadata": {
        "colab": {
          "base_uri": "https://localhost:8080/"
        },
        "id": "bBBwaZTdIz1S",
        "outputId": "b666c927-8eab-4143-d2ee-a1a9771ffdaf"
      },
      "execution_count": 3,
      "outputs": [
        {
          "output_type": "stream",
          "name": "stderr",
          "text": [
            "/usr/local/lib/python3.7/dist-packages/IPython/core/interactiveshell.py:2882: DtypeWarning: Columns (2,9,26,35,46,47,54,56,58,60,61,62,64,65,66,68,71,75,76,77,79,82,84,85,86,87,88,89,90,91,92,96,98,99,101,103,109,111,115,116,117,118,119,120,121,122,123,127,129,135,136,142,143,144,145,147,148,149,150,151,156,165,170,171,172,173,175,177,178,179,180,183,185,186,187,189,190,193,194,195,204,205,210,211,212,214,215,220,221,222,223,227,228,229,230,233,242,246) have mixed types.Specify dtype option on import or set low_memory=False.\n",
            "  exec(code_obj, self.user_global_ns, self.user_ns)\n"
          ]
        }
      ]
    },
    {
      "cell_type": "code",
      "source": [
        "name_list = occurrence_df.columns\n",
        "occurrence_df = pd.read_csv(\"occurrence.txt\", delimiter=\"\\t\", encoding=\"latin-1\", names=name_list)"
      ],
      "metadata": {
        "colab": {
          "base_uri": "https://localhost:8080/"
        },
        "id": "upAe21EBJZHr",
        "outputId": "a99f56f5-2c4b-454c-ee9f-75b0066984c1"
      },
      "execution_count": 4,
      "outputs": [
        {
          "output_type": "stream",
          "name": "stderr",
          "text": [
            "/usr/local/lib/python3.7/dist-packages/IPython/core/interactiveshell.py:2882: DtypeWarning: Columns (0,1,2,3,4,5,6,7,8,9,10,11,12,13,14,15,16,17,18,19,20,21,22,23,24,25,26,27,28,29,30,31,32,33,34,35,37,38,40,42,43,44,45,46,47,48,49,50,51,52,53,54,55,56,58,60,61,62,64,65,66,68,69,71,72,73,74,75,76,77,78,79,80,81,82,84,85,86,87,88,89,90,91,92,93,94,95,96,97,98,99,100,101,103,104,105,106,107,108,109,111,112,113,114,115,116,117,118,119,120,121,122,123,127,128,129,130,131,132,133,134,135,136,137,138,139,140,141,142,143,144,145,146,147,148,149,150,151,152,153,154,155,156,157,158,159,160,161,162,163,164,165,166,167,168,169,170,171,172,173,175,176,177,178,179,180,181,182,183,184,185,186,187,189,190,191,192,193,194,195,201,204,205,207,208,210,211,212,214,215,219,220,221,222,223,224,225,227,228,229,230,231,232,233,234,235,236,237,238,242,246,247,248,249,250,251,252,253,254,255) have mixed types.Specify dtype option on import or set low_memory=False.\n",
            "  exec(code_obj, self.user_global_ns, self.user_ns)\n"
          ]
        }
      ]
    },
    {
      "cell_type": "code",
      "source": [
        "occurrence_df = pd.DataFrame(occurrence_df.values[1:], columns=name_list)"
      ],
      "metadata": {
        "id": "i74dSHjzMeU6"
      },
      "execution_count": 5,
      "outputs": []
    },
    {
      "cell_type": "code",
      "source": [
        "import numpy as np\n",
        "\n",
        "sci_names = set(occurrence_df[\"acceptedScientificName\"])\n",
        "sci_counts = {}\n",
        "for s in sci_names:\n",
        "  sci_counts[s] = len(occurrence_df[occurrence_df[\"acceptedScientificName\"] == s])\n",
        "\n",
        "del sci_counts[np.nan]"
      ],
      "metadata": {
        "id": "T77Xd7DPoMXy"
      },
      "execution_count": 6,
      "outputs": []
    },
    {
      "cell_type": "code",
      "source": [
        "multimedia_df = pd.read_csv(\"multimedia.txt\", delimiter=\"\\t\", encoding=\"latin-1\")"
      ],
      "metadata": {
        "id": "A99q3oNtKhHK"
      },
      "execution_count": 7,
      "outputs": []
    },
    {
      "cell_type": "code",
      "source": [
        "pd.set_option('display.max_rows', None)\n",
        "pd.set_option('display.max_columns', None)\n",
        "pd.set_option('display.width', None)\n",
        "pd.set_option('display.max_colwidth', -1)"
      ],
      "metadata": {
        "colab": {
          "base_uri": "https://localhost:8080/"
        },
        "id": "TO7KM7EiNEAM",
        "outputId": "e291695d-108c-46a2-a93a-01beb77ffbb7"
      },
      "execution_count": 8,
      "outputs": [
        {
          "output_type": "stream",
          "name": "stderr",
          "text": [
            "/usr/local/lib/python3.7/dist-packages/ipykernel_launcher.py:4: FutureWarning: Passing a negative integer is deprecated in version 1.0 and will not be supported in future version. Instead, use None to not limit the column width.\n",
            "  after removing the cwd from sys.path.\n"
          ]
        }
      ]
    },
    {
      "cell_type": "code",
      "source": [
        "id_to_sp = {}\n",
        "for idx, row in occurrence_df.iterrows():\n",
        "  id_to_sp[row[\"gbifID\"]] = row[\"acceptedScientificName\"]"
      ],
      "metadata": {
        "id": "07n1AzmxLF1x"
      },
      "execution_count": 9,
      "outputs": []
    },
    {
      "cell_type": "code",
      "source": [
        "import os\n",
        "from tqdm.notebook import tqdm\n",
        "from urllib import request\n",
        "import time\n",
        "from joblib import Parallel, delayed\n",
        "from collections import defaultdict\n",
        "import io\n",
        "from PIL import Image\n",
        "import time\n",
        "\n",
        "rand_df = multimedia_df.sample(frac=1).reset_index(drop=True)\n",
        "sample_nums = defaultdict(int)\n",
        "\n",
        "def get_ims(idx, row):\n",
        "  id = row[\"gbifID\"]\n",
        "  try:\n",
        "    sp = id_to_sp[id]\n",
        "  except:\n",
        "    return\n",
        "  im_url = row[\"identifier\"]\n",
        "  \n",
        "  if sample_nums[sp] >= 20:\n",
        "    return\n",
        "\n",
        "  bn = os.path.basename(str(id))\n",
        "  path = f\"images/{sp}\"\n",
        "  try:\n",
        "    req = request.urlopen(request.Request(im_url)).read()\n",
        "  except:\n",
        "    return\n",
        "\n",
        "  try:\n",
        "    im = Image.open(io.BytesIO(req))\n",
        "    im.thumbnail([1250, 1250])\n",
        "    \n",
        "    if not os.path.isdir(path):\n",
        "      os.makedirs(path)\n",
        "\n",
        "    im.save(f\"{path}/{id}.jpg\")\n",
        "    sample_nums[sp] += 1\n",
        "  except:\n",
        "    pass\n",
        "\n",
        "  time.sleep(1)\n",
        "  return\n",
        "\n",
        "Parallel(n_jobs=8, require=\"sharedmem\")(delayed(get_ims)(idx, row) for idx, row in tqdm(list(rand_df.iterrows()), total=len(rand_df)))"
      ],
      "metadata": {
        "id": "7XAaKCbXUh6L",
        "colab": {
          "base_uri": "https://localhost:8080/",
          "height": 138,
          "referenced_widgets": [
            "9be4f2d6285a432fa9db10770de95947",
            "94fe55e9e8bf4138be86fb468541f7d9",
            "4014e38b4ef442c1a0bb137ebfa2e37e",
            "70aec790d99543c9bcdcb9591e75837d",
            "4df73402a9d2413cbd4b665f41cb275d",
            "58f85ff347a04cfcb826bc3f88082ad5",
            "8448b5e66a8c49e4949a315f3a8fbfbc",
            "56735d4b305340ba826b23e3e2adaa7b",
            "68d2c0a8a6f6401fb416516fcf57d7f4",
            "60edf3940de64ebfa06beaa54cef18fc",
            "22718a156846474da0c6c7299d182619"
          ]
        },
        "outputId": "a1777026-0094-49df-f2c9-218c83ae9666"
      },
      "execution_count": null,
      "outputs": [
        {
          "output_type": "display_data",
          "data": {
            "text/plain": [
              "  0%|          | 0/122925 [00:00<?, ?it/s]"
            ],
            "application/vnd.jupyter.widget-view+json": {
              "version_major": 2,
              "version_minor": 0,
              "model_id": "9be4f2d6285a432fa9db10770de95947"
            }
          },
          "metadata": {}
        },
        {
          "output_type": "stream",
          "name": "stderr",
          "text": [
            "/usr/local/lib/python3.7/dist-packages/PIL/TiffImagePlugin.py:770: UserWarning: Possibly corrupt EXIF data.  Expecting to read 11 bytes but only got 6. Skipping tag 42037\n",
            "  \" Skipping tag %s\" % (size, len(data), tag)\n",
            "/usr/local/lib/python3.7/dist-packages/PIL/TiffImagePlugin.py:788: UserWarning: Corrupt EXIF data.  Expecting to read 12 bytes but only got 10. \n",
            "  warnings.warn(str(msg))\n"
          ]
        }
      ]
    },
    {
      "cell_type": "code",
      "source": [
        "! zip -r -q /content/drive/MyDrive/UNC/S2022P/GBIF25k.zip /content/images"
      ],
      "metadata": {
        "id": "DyeZU2ngtJL3"
      },
      "execution_count": null,
      "outputs": []
    },
    {
      "cell_type": "code",
      "source": [
        ""
      ],
      "metadata": {
        "id": "A3UxkL6pBDLg"
      },
      "execution_count": null,
      "outputs": []
    }
  ]
}