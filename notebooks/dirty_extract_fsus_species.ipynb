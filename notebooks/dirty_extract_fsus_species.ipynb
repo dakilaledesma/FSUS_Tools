{
  "nbformat": 4,
  "nbformat_minor": 0,
  "metadata": {
    "colab": {
      "name": "dirty_extract_fsus_species",
      "provenance": [],
      "mount_file_id": "10Pf0hnY43YDyMDlVC1VUNavMdH0w_dFM",
      "authorship_tag": "ABX9TyN2t7xKxfv3lIYOSqW4vaBx",
      "include_colab_link": true
    },
    "kernelspec": {
      "name": "python3",
      "display_name": "Python 3"
    },
    "language_info": {
      "name": "python"
    }
  },
  "cells": [
    {
      "cell_type": "markdown",
      "metadata": {
        "id": "view-in-github",
        "colab_type": "text"
      },
      "source": [
        "<a href=\"https://colab.research.google.com/github/dakilaledesma/FSUS_Tools/blob/main/notebooks/dirty_extract_fsus_species.ipynb\" target=\"_parent\"><img src=\"https://colab.research.google.com/assets/colab-badge.svg\" alt=\"Open In Colab\"/></a>"
      ]
    },
    {
      "cell_type": "code",
      "source": [
        "! pip install pypdf2"
      ],
      "metadata": {
        "colab": {
          "base_uri": "https://localhost:8080/"
        },
        "id": "S_nfMhbLwtUq",
        "outputId": "723a4c32-706b-4ee6-aa0c-c8c8b8d7fc90"
      },
      "execution_count": 1,
      "outputs": [
        {
          "output_type": "stream",
          "name": "stdout",
          "text": [
            "Looking in indexes: https://pypi.org/simple, https://us-python.pkg.dev/colab-wheels/public/simple/\n",
            "Collecting pypdf2\n",
            "  Downloading PyPDF2-2.9.0-py3-none-any.whl (207 kB)\n",
            "\u001b[K     |████████████████████████████████| 207 kB 12.7 MB/s \n",
            "\u001b[?25hRequirement already satisfied: typing-extensions in /usr/local/lib/python3.7/dist-packages (from pypdf2) (4.1.1)\n",
            "Installing collected packages: pypdf2\n",
            "Successfully installed pypdf2-2.9.0\n"
          ]
        }
      ]
    },
    {
      "cell_type": "code",
      "execution_count": 2,
      "metadata": {
        "id": "Uo3L1DwevUw9"
      },
      "outputs": [],
      "source": [
        "pdf_path = \"/content/drive/MyDrive/UNC/FSUS.pdf\""
      ]
    },
    {
      "cell_type": "code",
      "source": [
        "import PyPDF2 \n",
        "    \n",
        "pdfFileObj = open(pdf_path, 'rb') \n",
        "pdfReader = PyPDF2.PdfFileReader(pdfFileObj) \n",
        "total_pages = pdfReader.numPages"
      ],
      "metadata": {
        "id": "jN7Lsayiwm8n"
      },
      "execution_count": 10,
      "outputs": []
    },
    {
      "cell_type": "code",
      "source": [
        "from tqdm import tqdm\n",
        "\n",
        "page_strs = []\n",
        "for page in tqdm(range(total_pages)):\n",
        "  pageObj = pdfReader.getPage(page) \n",
        "  page_strs.append(pageObj.extractText()) \n",
        "\n",
        "pdfFileObj.close() "
      ],
      "metadata": {
        "colab": {
          "base_uri": "https://localhost:8080/"
        },
        "id": "9zv9Gb_LxEi7",
        "outputId": "217276d1-aa37-417f-ebd7-b50a03061530"
      },
      "execution_count": 11,
      "outputs": [
        {
          "output_type": "stream",
          "name": "stderr",
          "text": [
            "100%|██████████| 1848/1848 [05:42<00:00,  5.40it/s]\n"
          ]
        }
      ]
    },
    {
      "cell_type": "code",
      "source": [
        "initial_species = []\n",
        "for i in range(226, 257):\n",
        "  pst = page_strs[i]\n",
        "  pst = pst.split(\"\\n\")\n",
        "  for j in pst:\n",
        "    if \" . \" in j:\n",
        "      initial_species.append(j.split(\" . \")[0])"
      ],
      "metadata": {
        "colab": {
          "base_uri": "https://localhost:8080/"
        },
        "id": "ujmZsW4BxeEt",
        "outputId": "1d64c290-538c-4df5-9002-e131a09b0ea3"
      },
      "execution_count": 16,
      "outputs": [
        {
          "output_type": "stream",
          "name": "stdout",
          "text": [
            "33 Leaf blades more -or-less horizontally oriented, flat against the ground or 1 -2 cm above it\n",
            " Aplectrum hyemale  (Muhlenberg ex Willdenow) Torrey\n",
            " Arethusa bulb osa  Linnaeus\n",
            " Aspidogyne querceticola  (Lindl ey) Meneguzzo\n",
            " Basiphyllaea corallicola  (Small) Ames\n",
            " Beloglottis costaricensis  (Reichenbach f.) Schlechter\n",
            "* Bletia florida  (Salisbury) R. Brown\n",
            " Bletia patula  Graham\n",
            "Jun\n",
            " Bletia purpurea  (Lamarck) A.P. de Candolle\n",
            "* Bletilla striata  (Thunberg) Reichenbach f\n",
            " Brassia caudata  (Linnaeus) Lindley\n",
            " Bulbophyllum pachyrachis  (A. Richard) Grisebach\n",
            " Calopogon barbatus  (Walter) Ames\n",
            " Calopogon multiflorus  Lindley\n",
            " Calopogon oklahomensis  D.H. Goldman\n",
            " Calopogon pallidus  Chapman\n",
            " Calopogon tuberosus  (Linnaeus) Britton, Sterns, & Poggenburg  var.  simpsonii  (Small) Magrath\n",
            " Calopogon tuberosus  (Linnaeus) Britton, Sterns, & Poggenburg  var.  tuberosus\n",
            " Camaridium micranthum  M.A. Blanco\n",
            "Fraxinus cubensis\n",
            " Campylocentrum pachyrrhizum  (Reichenbach f.) Rolfe\n",
            " Cleistesiopsis bifaria  (Fernald) Pansarin & F. Barros\n",
            " Cleistesiopsis divaricata  (Linnaeus) Pansarin & F. Barros\n",
            "sw. GA and ne\n",
            "including C. bifaria , and reports from the East Gulf Coastal Plain (west of ne. FL) are based on C. oricamporum\n",
            " Cleistesiopsis oricamporum  P.M. Brown\n",
            "taxonom ic status.  Where co -occurring, C. oricamporum  flowers on average about 10 days before C. divaricata\n",
            "5 Lip planar; flowering Apr -May  ................................ ................................ ................................ ................................ ................................\n",
            " Corallorhiza maculat a (Rafinesque) Rafinesque  var.  maculata\n",
            " Corallorhi za maculata  (Rafinesque) Rafinesque  var.  occidentalis  (Lindley) Ames\n",
            " Corallorhiza odontorhiza  (Willdenow) Poiret\n",
            " Corallorhiza trifida  Châtelain\n",
            "FNA 2002, Kartesz 1999), VA (Virginia Botanical Associates 2015; J\n",
            " Corallorhiza wisteriana  Conrad\n",
            " Cranichis muscosa  Swartz\n",
            " Cyclopogon cranichoides  (Grisebach) Schlechte r; Green Ladies’ -tresses\n",
            " Cyclopogon elatus  (Swartz) Schlechter\n",
            "* Cymbidium dayanum  Reichenbach f.\n",
            " Cypripedium acaule  Aiton\n",
            " Cypripedium candidum  Muhlenberg ex Willdenow\n",
            " Cypripedium kentuckiense  C.F. Reed\n",
            " Cypripedium parviflorum  Salisbury  var.  parviflorum\n",
            "pubescens\n",
            " Cypripedium parviflorum  Salisbury  var.  pubescens  (Willdenow) Knight\n",
            " Cypripedium reginae  Walter\n",
            "* Cyrtopodium polyphyllum  (Vellozo) Pabst ex F. Barrios\n",
            " Cyrtopodi um punctatum  (Linnaeus) Lindley\n",
            " Dactylorhiza viridis  (Linnaeus) R.M. Bateman, Pridgeon, & M.W. Chase\n",
            "ORCHID\n",
            " Dendrophylax lindenii  (Lindley) Bentham ex Rolfe\n",
            "trees in dome swamps, strand swamps, and sloughs, especially on Annona glabr a and Fraxinus cubensis\n",
            " Dendrophylax porrec tus (Reichenbach f.) Carlsward & Whitten\n",
            "THREADROOT ORCHID\n",
            " Diteilis nervosa  (Thunberg) M.A. Clements & D.A. Jones\n",
            " Eltroplectris calcarata  (Swartz) Ga ray & H.R. Sweet\n",
            "* Encyclia rufa  (Lindley) Britton & Millspaugh\n",
            " Encyclia tampensis  (Lindley) Small\n",
            " Epidendrum acunae  Dressler\n",
            " Epidendrum amphistomum  A. Richard\n",
            " Epidendrum conopseum  W.T. Aiton\n",
            "swamps, on upper limbs of Taxodium , Nyssa , Planera , and other trees, typically mixed with Pleopeltis\n",
            " Epidendrum floridense  Hágsater\n",
            "His paniola). (Jan -) Aug -Nov ( -Dec). Formerly often included in the more widespread E. difforme\n",
            " Epidendrum nocturnum  Jacquin\n",
            "* Epidendrum radicans  Pavón ex Lindley\n",
            " Epidendrum rigidum  Jacquin\n",
            " Epidendrum strobiliferum  Reichenbach f\n",
            " Epipactis gigantea  Douglas ex Hooker\n",
            "* Epipactis helleborine  (Linnaeus) Crantz\n",
            " Eulophia alta  (Linnaeus) Fawcett & Rendle\n",
            "* Eulophia graminea  Lindley\n",
            " Galeandra bicari nata  G.A. Romero & P.M. Brown\n",
            " Galearis spectabilis  (Linnaeus) Rafinesque\n",
            " Goodyera pubescens  (Willdenow) R. Brown\n",
            " Goodyera repens  (Linnaeus) R. Brown\n",
            " Goodyera tesselata  Loddiges\n",
            "NJ, MD, PA, n. OH, MI, WI, and MN. Jul -early Sep. Probably an al lopolyploid, derived from G. oblongifolia × repens\n",
            " Govenia floridana  P.M. Brown\n",
            "County); possibly extinct. Nov -Dec. This species has also been considered to be a disjunct population of the much more widespread G. utriculata\n",
            " Habenaria distans  Grisebach\n",
            " Habenaria floribunda  Lindley\n",
            " Habenaria macroceratitis  Willdenow\n",
            "└maybe exotic┘  └exotic┘    (see introduction for more)  ←common   Habenaria quinqueseta  (Michaux) A. Eaton\n",
            " Habenaria repens  Nuttall\n",
            "south to s. FL and west to e. and s. TX; West Indies, Mexico, Central America, and n. South America. Apr -Nov. Reported from se\n",
            " Heterotaxis sessilis  (Swartz) F. Barros\n",
            " Hexalect ris arizonica  (S. Watson) A.H. Kennedy & L.E. Watson\n",
            " Hexalectris nitida  L.O. Williams\n",
            " Hexalectris spicata  (Walter) Barnhart\n",
            " Hexalectris warnockii  Ames & Correll\n",
            " Ionopsis utricularioides  (Swartz) Lindley\n",
            "ANGELITOS\n",
            "Identification Notes: Sterile Isotria  is sometimes confused with Medeola\n",
            " Isotria medeoloides  (Pursh) Rafinesque\n",
            "and upper Piedmont usually with Pinus strobus\n",
            " Isotria verticillata  (Muhlenber g ex Willdenow) Rafinesque\n",
            "* Laelia rubescens  Lindley\n",
            " Lepanthopsis melanantha  (Reichenbach f.) Ames\n",
            "Jan -Dec. [= FNA26, K3, WH3, WI, Brown (2002), Correll (1950), Luer (1975)] NatureServe G3G4  (Vulnerable)\n",
            "2 Lip  4-5.5 mm long, yellowish -green; pedicels 3 -7 mm long, shorter than the capsule  ................................ ................................ ................................\n",
            " Liparis liliifolia  (Linnaeus) L.C. Richard ex Lindley\n",
            " Liparis loeselii  (Linnaeus) L.C. Richard\n",
            " Macradenia lutescens  R. Brown\n",
            " Malaxis bayardii  Fernald\n",
            "further discussion of the distinction of M bayardii  from M. unifolia\n",
            " Malaxis brachypoda  (A. Gray) Fernald\n",
            " Malaxis spicata  Swartz\n",
            "└maybe exotic┘  └exotic┘    (see introduction for more)  ←common   Malaxis unifolia  Michaux\n",
            " Mesadenus lucayanus  (Britton) S chlechter\n",
            "Neottia\n",
            " Neottia bifolia  (Rafinesque) Baum bach\n",
            " Neottia cordata  (Linnaeus) L.C. Richard\n",
            " Neottia smallii  (Wiegand) Szlachetko\n",
            "slopes, nearly always beneath Rhododendron maximum\n",
            "* Oeceoclades maculata  (Lindley) Lindley\n",
            " Orthochilus ecris tatus  (Fernald) Bytebier\n",
            " Pelexia adnata  (Swartz) Sprengel\n",
            "* Phaius tancarvilleae  (L’Héritier) Blume\n",
            "Platanthera , Tulotis , Limnorchis , Blephariglottis  and Fimbriella\n",
            "tuberoids) are clear. Comparable differences in tribe Orchideae are often used to discriminate between widely accepted genera\n",
            "cristata, conspicu a, integrilabia  Subgenus Blephariglottis  section Gymnadeniopsis :  clavellata, integra, nivea\n",
            " Platanthera aquilonis  Sheviak\n",
            "IA, NE, NM, UT, ID, and OR\n",
            " Platanthera blephariglottis  (Willdenow) Lindley\n",
            " Platanthera chapmanii  (Small) Luer\n",
            " Platanthera ciliaris  (Linnaeus) Lindley\n",
            "OK south to c. peninsular FL and TX. Jun -Aug. Jun -Sep. P. ciliaris  is probably our most common and least habitat -specific Platanthera\n",
            " Platanthera clavellata  (Michaux) Luer\n",
            " Platanthera conspicua  (Nash) P.M. Brown\n",
            " Platanthera cristata  (Michaux) Lindley\n",
            " Platanthera dilatata  (Pursh) Lindley ex Beck  var.  dilatata\n",
            " Platanthera flava  (Linnaeus) Lindley\n",
            "Southeastern Coastal Plain. Mar -Sep. See Homoya (1993) for additional discussion of the two taxa usually treated as varieties of P. flava\n",
            " Platanthera grandiflora  (Bigelow) Lindley\n",
            " Platanthera herbiola  (R. Brown) Lindley\n",
            " Platanthera hookeri  (To rrey ex A. Gray) Lindley\n",
            " Platanthera huronensis  (Nuttall) Lindley\n",
            " Platanthera integra  (Nuttall) A. Gray ex Beck\n",
            " Platanthera integrilabia  (Correll) Luer\n",
            " Platanthera lacera  (Michaux) G. Don\n",
            " Platanthera leucophaea  (Nuttall) Lindley\n",
            " Platanthera macrophylla  (Goldie) P.M. Brown\n",
            " Platanthera nivea  (Nuttall) Luer\n",
            "North Carolina\n",
            " Platanthera orbiculata  (Pursh) Lindley\n",
            " Platanthera peramoena  (A. Gray) A. Gray\n",
            " Platanthera praeclara  Sheviak & Bowles\n",
            " Platanthera ps ycodes  (Linnaeus) Lindley\n",
            " Platanthera shriveri  P.M. Brown\n",
            " Pogonia ophioglossoides  (Linnaeus) Ker -Gawler\n",
            " Polystachya concreta  (Jacquin) Garay & H.R. Sweet\n",
            "ORCHID\n",
            " Ponthieva brittoniae  Ames\n",
            " Ponthieva racemosa  (Walter) C. Mohr\n",
            " Prosthechea boothiana  (Lindley) W.E. Higgins  var.  erythronioides  (Small) W.E. Higgins\n",
            " Prosthechea cochleata  (Linnaeus) W.E. Higgins  var.  triandra  (Ames) W.E. Higgins\n",
            " Prosthechea pygmaea  (Hooker) W.E. Higgins\n",
            " Restrepiella ophiocephala  (Lindley) Garay & Dunsterville. Epiphytic on Fraxinus cubensis\n",
            " Sacoila lanceolata  (Aublet) Garay\n",
            " Sacoila paludicola  (Luer) P.M. Brown\n",
            " Sacoila squamulosa  (Kunth) Garay\n",
            "* Spathoglottis plicata  Blume\n",
            "flatwoods, other disturbed areas. Native of se. Asia\n",
            " Spiranthes ×kapnosperia  M.C. Pace\n",
            " Spiranthes brevilabris  Lindley\n",
            " Spiranthes casei  Catling & Cruise  var.  casei\n",
            " Spiran thes cernua  (Linnaeus) L.C. Richard\n",
            " Spiranthes eatonii  Ames ex P.M. Brown\n",
            " Spiranthes floridana  (Wherry) Cory\n",
            " Spiranthes igniorchis  M.C. Pace\n",
            " Spiranthes lacera  (Rafinesque) Rafinesque  var.  gracilis  (Bigelow) Luer\n",
            " Spiranthes lacera  (Rafinesque) Rafinesque  var.  lacera\n",
            "south to sw. NC, w. VA, TN, and MO\n",
            " Spiranthes laciniata  (Small) Ames\n",
            " Spiranthes longilabris  Lindley\n",
            " Spiranthes lucida  (H.H. Eaton) Ames\n",
            " Spiranthes magnicamporum  Sheviak\n",
            "Great Plains, from ND south to TX, east (often as widely disjunct populations) to sw. ON, se. PA, sw. VA (Ludwig 1999), KY, w\n",
            " Spiranthes ochroleuca  (Rydberg) Rydberg\n",
            " Spiranthes odorata  (Nuttall) Lindley\n",
            " Spiranthes ovalis  Lindley  var.  erostellata  Catling\n",
            " Spiranthes ovalis  Lindley  var.  ovalis\n",
            " Spiranthes parksii  Correll\n",
            "controversial.  Pace  & Cameron (2017) have recently concluded it is better regarded as a race of Spiranthes cernua\n",
            " Spiranthes praecox  (Walter) S. Watson\n",
            " Spiranthes romanzoffiana  Chamisso\n",
            " Spiranthes sylvatica  P.M. Brown\n",
            " Spiranthes torta  (Thunberg) Garay & H.R. Sweet\n",
            "flatwoods. S. FL; West Indies; s. Mexico and Central America. Late May -Jul. Here interpreted as including Spiranthes amesiana\n",
            " Spiranthes triloba  (Small) K. Schumann emend. M. Pace\n",
            "usually casually synonymized under) S. odorata\n",
            " Spiranthes tuberosa  Rafinesque\n",
            " Spiranthes vernalis  Engelmann & A. Gray\n",
            " Stelis gelida  (Lindley) A.M. Pridgeon & M. Chase\n",
            "* Tetramicra elegans  (Hamilton) Cogniart\n",
            " Tipularia discolor  (Pursh) Nuttall\n",
            " Tolumnia bahamensis  (Nash ex Britton & Millspaugh) Braem\n",
            " Trichocentrum carthagenense  (Jacquin) M.W. Chase & N.H. Williams\n",
            " Trichocentrum undulatum  (Swartz) Ackerman & M.W. Chase\n",
            " Triphora amazonica  Schlechter\n",
            " Triphora craigheadii  Luer\n",
            " Triphora gentianoides  (Swartz) Ames  & Schlechter\n",
            " Triphora rickettii  Luer\n",
            "Jul-Aug. Sometimes treated as a disjunct component of the Mexican T. yucatanensis\n",
            "└maybe exotic┘  └exotic┘    (see introduction for more)  ←common   Triphora trianthophoros  (Swartz) Rydberg  var.  texensis  P.M. Brown & R.B. Pike\n",
            " Triphora trianthophoros  (Swartz) Rydberg  var.  trianthophoros\n",
            "NODDING ETTERCAP\n",
            "Sep. The recently named var\n",
            " Tropidia polystachya  (Swartz) Ames\n",
            " Vanilla barbellata  Reichenbach f\n",
            " Vanilla dilloniana  Correll\n",
            " Vanilla mexicana  P. Miller\n",
            " Vanilla phaeantha  Reichenbach f\n",
            "* Vanilla planifolia  G. Jackson\n",
            "* Zeuxine strateumatica  (Linnaeus) Schlechter\n",
            " ................................ ................................ ................................ ................................ ................................ ................................ ................................\n",
            "1 Leaf blades 0.3 -2.0 ( -2.6) cm wide, parallel -margine d, nearly planar; leaves not petiolate; fruit a capsule, dehiscent  ................................ ................................\n",
            "uniting Curculigo  and Molineria\n",
            "* Curculigo capitulata  (Loureiro) Kuntze\n",
            "5 Leaves flattened, > 1 mm wide; seeds coarsely muricate (the exposed portion of each cell poin ted-conical); [widespread]  ................................\n",
            "5 Leaves filiform, 0.3 -1.2 mm wide; seeds pebbled (the exposed portion of each cell rounded); [of Coastal Plain pinelands]  ................................\n",
            " Hypoxis curtissii  Rose\n",
            " Hypoxis hirsuta  (Linnaeus) Coville\n",
            " Hypoxis juncea  J.E. Smith\n",
            " Hypoxis  rigida  Chapman\n",
            " Hypoxis sessilis  Linnaeus\n",
            " Hypoxis wrightii  (Baker) Brackett\n"
          ]
        }
      ]
    },
    {
      "cell_type": "code",
      "source": [
        ""
      ],
      "metadata": {
        "id": "uT4s-lq_xkW6"
      },
      "execution_count": null,
      "outputs": []
    }
  ]
}