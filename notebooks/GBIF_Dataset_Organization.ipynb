{
  "nbformat": 4,
  "nbformat_minor": 0,
  "metadata": {
    "colab": {
      "name": "GBIF Dataset Organization",
      "provenance": [],
      "mount_file_id": "1ViUmbgj9k3XV7__5hHkxpNFxzzzXnd7K",
      "authorship_tag": "ABX9TyOs89PVLVBWMRW19e7dU/by",
      "include_colab_link": true
    },
    "kernelspec": {
      "name": "python3",
      "display_name": "Python 3"
    },
    "language_info": {
      "name": "python"
    }
  },
  "cells": [
    {
      "cell_type": "markdown",
      "metadata": {
        "id": "view-in-github",
        "colab_type": "text"
      },
      "source": [
        "<a href=\"https://colab.research.google.com/github/dakilaledesma/FSUS_Tools/blob/main/notebooks/GBIF_Dataset_Organization.ipynb\" target=\"_parent\"><img src=\"https://colab.research.google.com/assets/colab-badge.svg\" alt=\"Open In Colab\"/></a>"
      ]
    },
    {
      "cell_type": "code",
      "execution_count": 1,
      "metadata": {
        "colab": {
          "base_uri": "https://localhost:8080/"
        },
        "id": "sNwravri97pm",
        "outputId": "6f79e765-eed4-461d-b729-74fe05f0134b"
      },
      "outputs": [
        {
          "output_type": "stream",
          "name": "stdout",
          "text": [
            "CPU times: user 73.2 ms, sys: 24.1 ms, total: 97.3 ms\n",
            "Wall time: 7.9 s\n"
          ]
        }
      ],
      "source": [
        "%%time\n",
        "! unzip -q /content/drive/MyDrive/UNC/S2022P/GBIF_balanced20.zip -d /content/temp\n",
        "! mv /content/temp/content/images /content/images\n",
        "! rm -rf temp"
      ]
    },
    {
      "cell_type": "code",
      "source": [
        "! rm -rf /content/images/nan"
      ],
      "metadata": {
        "id": "6ImH7jIYBr-e"
      },
      "execution_count": 2,
      "outputs": []
    },
    {
      "cell_type": "code",
      "source": [
        "from glob import glob\n",
        "\n",
        "sp_d = {}\n",
        "im_f = glob(\"images/*\")\n",
        "for f in im_f:\n",
        "  len_f = len(list(glob(f\"{f}/*.*\")))\n",
        "  if len_f >= 4:\n",
        "    sp_d[f.replace(\"images/\", '')] = len_f\n",
        "\n",
        "sp_v = list(sp_d.values())\n",
        "print(len(sp_v), min(sp_v), max(sp_v), sum(sp_v))\n"
      ],
      "metadata": {
        "id": "Yh3iCZ2f-bBV",
        "colab": {
          "base_uri": "https://localhost:8080/"
        },
        "outputId": "a3684f30-95df-4ea3-b52a-ea097938039d"
      },
      "execution_count": 3,
      "outputs": [
        {
          "output_type": "stream",
          "name": "stdout",
          "text": [
            "185 4 22 3439\n"
          ]
        }
      ]
    },
    {
      "cell_type": "code",
      "source": [
        "import random\n",
        "import os\n",
        "import shutil\n",
        "\n",
        "\n",
        "out_list = []\n",
        "im_f.sort()\n",
        "\n",
        "sp_idx = 0\n",
        "for f in im_f:\n",
        "  sp = f.replace(\"images/\", '')\n",
        "  sp_fi = list(glob(f\"{f}/*.*\"))\n",
        "  len_sp_fi = len(sp_fi)\n",
        "  if len_sp_fi >= 4:\n",
        "    out_list.append(f\"{sp_idx},{sp}\")\n",
        "    f_name = str(sp_idx).zfill(5)\n",
        "    random.seed(2232)\n",
        "    random.shuffle(sp_fi)\n",
        "    sp_d[f.replace(\"images/\", '')] = len_f\n",
        "\n",
        "    test_sample_num = max([2, len_sp_fi // 4])\n",
        "\n",
        "    copy_f_test = f\"dataset/test/{f_name}\"\n",
        "    copy_f_train = f\"dataset/train/{f_name}\"\n",
        "\n",
        "    if not os.path.isdir(copy_f_test):\n",
        "      os.makedirs(copy_f_test)\n",
        "    if not os.path.isdir(copy_f_train):\n",
        "      os.makedirs(copy_f_train)\n",
        "\n",
        "    for _ in range(test_sample_num):\n",
        "      fn = sp_fi.pop()\n",
        "      bn = os.path.basename(fn)\n",
        "      dest_fn = f\"{copy_f_test}/{bn}\"\n",
        "      shutil.copy(fn, dest_fn)\n",
        "\n",
        "    for _ in range(len(sp_fi)):\n",
        "      fn = sp_fi.pop()\n",
        "      bn = os.path.basename(fn)\n",
        "      dest_fn = f\"{copy_f_train}/{bn}\"\n",
        "      shutil.copy(fn, dest_fn)\n",
        "    \n",
        "    sp_idx += 1\n",
        "\n",
        "out_file = open(\"dataset/annotations.txt\", 'w')\n",
        "out_file.write('\\n'.join(out_list))\n",
        "out_file.close()"
      ],
      "metadata": {
        "id": "isUx0lH7As0g"
      },
      "execution_count": 6,
      "outputs": []
    },
    {
      "cell_type": "code",
      "source": [
        "print(len(list(glob(\"dataset/train/*\"))), len(list(glob(\"dataset/test/*\"))))"
      ],
      "metadata": {
        "colab": {
          "base_uri": "https://localhost:8080/"
        },
        "id": "-iQRXuZHTTcE",
        "outputId": "1e7f1f66-400f-4097-bc11-409658a38f48"
      },
      "execution_count": 7,
      "outputs": [
        {
          "output_type": "stream",
          "name": "stdout",
          "text": [
            "185 185\n"
          ]
        }
      ]
    },
    {
      "cell_type": "code",
      "source": [
        "sp_d = {}\n",
        "im_f = glob(\"dataset/train/*\")\n",
        "for f in im_f:\n",
        "  len_f = len(list(glob(f\"{f}/*.*\")))\n",
        "  if len_f >= 1:\n",
        "    sp_d[f.replace(\"dataset/train\", '')] = len_f\n",
        "\n",
        "sp_v = list(sp_d.values())\n",
        "print(len(sp_v), min(sp_v), max(sp_v), sum(sp_v))"
      ],
      "metadata": {
        "colab": {
          "base_uri": "https://localhost:8080/"
        },
        "id": "r9yEbEzYTlmC",
        "outputId": "ee67391e-09c3-44df-a2ca-27c06dc0f26c"
      },
      "execution_count": 9,
      "outputs": [
        {
          "output_type": "stream",
          "name": "stdout",
          "text": [
            "185 2 17 2598\n"
          ]
        }
      ]
    },
    {
      "cell_type": "code",
      "source": [
        "sp_d = {}\n",
        "im_f = glob(\"dataset/test/*\")\n",
        "for f in im_f:\n",
        "  len_f = len(list(glob(f\"{f}/*.*\")))\n",
        "  if len_f >= 1:\n",
        "    sp_d[f.replace(\"dataset/test\", '')] = len_f\n",
        "\n",
        "sp_v = list(sp_d.values())\n",
        "print(len(sp_v), min(sp_v), max(sp_v), sum(sp_v))"
      ],
      "metadata": {
        "colab": {
          "base_uri": "https://localhost:8080/"
        },
        "id": "L40xEeeZTuST",
        "outputId": "8f2b8f4b-8a4c-4d5c-9028-73074471257e"
      },
      "execution_count": 10,
      "outputs": [
        {
          "output_type": "stream",
          "name": "stdout",
          "text": [
            "185 2 5 841\n"
          ]
        }
      ]
    },
    {
      "cell_type": "code",
      "source": [
        "! zip -q -r -0 /content/drive/MyDrive/UNC/S2022P/GBIF_O_21_fourth.zip /content/dataset"
      ],
      "metadata": {
        "id": "cvl08l8WGpDO"
      },
      "execution_count": 11,
      "outputs": []
    },
    {
      "cell_type": "code",
      "source": [
        ""
      ],
      "metadata": {
        "id": "GeyMCCTgJNqY"
      },
      "execution_count": null,
      "outputs": []
    }
  ]
}