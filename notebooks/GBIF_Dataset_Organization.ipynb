{
  "nbformat": 4,
  "nbformat_minor": 0,
  "metadata": {
    "colab": {
      "name": "GBIF Dataset Organization",
      "provenance": [],
      "mount_file_id": "1ViUmbgj9k3XV7__5hHkxpNFxzzzXnd7K",
      "authorship_tag": "ABX9TyMup1Sps/G3HFM1BSZIhUyE",
      "include_colab_link": true
    },
    "kernelspec": {
      "name": "python3",
      "display_name": "Python 3"
    },
    "language_info": {
      "name": "python"
    }
  },
  "cells": [
    {
      "cell_type": "markdown",
      "metadata": {
        "id": "view-in-github",
        "colab_type": "text"
      },
      "source": [
        "<a href=\"https://colab.research.google.com/github/dakilaledesma/FSUS_Tools/blob/main/notebooks/GBIF_Dataset_Organization.ipynb\" target=\"_parent\"><img src=\"https://colab.research.google.com/assets/colab-badge.svg\" alt=\"Open In Colab\"/></a>"
      ]
    },
    {
      "cell_type": "code",
      "execution_count": null,
      "metadata": {
        "colab": {
          "base_uri": "https://localhost:8080/"
        },
        "id": "sNwravri97pm",
        "outputId": "d313581a-a48b-4648-bacb-a0f408f06aef"
      },
      "outputs": [
        {
          "output_type": "stream",
          "name": "stdout",
          "text": [
            "CPU times: user 43.1 ms, sys: 11.9 ms, total: 55 ms\n",
            "Wall time: 3.94 s\n"
          ]
        }
      ],
      "source": [
        "%%time\n",
        "! unzip -q /content/drive/MyDrive/UNC/S2022P/GBIF_balanced20.zip -d /content/temp\n",
        "! mv /content/temp/content/images /content/images\n",
        "! rm -rf temp"
      ]
    },
    {
      "cell_type": "code",
      "source": [
        "! rm -rf /content/images/nan"
      ],
      "metadata": {
        "id": "6ImH7jIYBr-e"
      },
      "execution_count": null,
      "outputs": []
    },
    {
      "cell_type": "code",
      "source": [
        "from glob import glob\n",
        "\n",
        "sp_d = {}\n",
        "im_f = glob(\"images/*\")\n",
        "for f in im_f:\n",
        "  len_f = len(list(glob(f\"{f}/*.*\")))\n",
        "  if len_f >= 4:\n",
        "    sp_d[f.replace(\"images/\", '')] = len_f\n",
        "\n",
        "sp_v = list(sp_d.values())\n",
        "print(len(sp_v), min(sp_v), max(sp_v), sum(sp_v))\n"
      ],
      "metadata": {
        "id": "Yh3iCZ2f-bBV",
        "colab": {
          "base_uri": "https://localhost:8080/"
        },
        "outputId": "f23a3e72-099d-4a08-e084-ebdbe3acabb2"
      },
      "execution_count": null,
      "outputs": [
        {
          "output_type": "stream",
          "name": "stdout",
          "text": [
            "185 4 22 3439\n"
          ]
        }
      ]
    },
    {
      "cell_type": "code",
      "source": [
        "import random\n",
        "import os\n",
        "import shutil\n",
        "\n",
        "\n",
        "out_list = []\n",
        "im_f.sort()\n",
        "\n",
        "for idx, f in enumerate(im_f):\n",
        "  idx = str(idx).zfill(5)\n",
        "  sp = f.replace(\"images/\", '')\n",
        "  out_list.append(f\"{idx},{sp}\")\n",
        "  sp_fi = list(glob(f\"{f}/*.*\"))\n",
        "  len_sp_fi = len(sp_fi)\n",
        "  if len_sp_fi >= 4:\n",
        "    random.seed(2232)\n",
        "    random.shuffle(sp_fi)\n",
        "    sp_d[f.replace(\"images/\", '')] = len_f\n",
        "\n",
        "    test_sample_num = max([2, len_sp_fi // 4])\n",
        "\n",
        "    copy_f_test = f\"dataset/test/{idx}\"\n",
        "    copy_f_train = f\"dataset/train/{idx}\"\n",
        "\n",
        "    if not os.path.isdir(copy_f_test):\n",
        "      os.makedirs(copy_f_test)\n",
        "    if not os.path.isdir(copy_f_train):\n",
        "      os.makedirs(copy_f_train)\n",
        "\n",
        "    for idx in range(test_sample_num):\n",
        "      fn = sp_fi.pop()\n",
        "      bn = os.path.basename(fn)\n",
        "      dest_fn = f\"{copy_f_test}/{bn}\"\n",
        "      shutil.copy(fn, dest_fn)\n",
        "\n",
        "    for idx in range(len(sp_fi)):\n",
        "      fn = sp_fi.pop()\n",
        "      bn = os.path.basename(fn)\n",
        "      dest_fn = f\"{copy_f_train}/{bn}\"\n",
        "      shutil.copy(fn, dest_fn)\n",
        "\n",
        "out_file = open(\"dataset/annotations.txt\", 'w')\n",
        "out_file.write('\\n'.join(out_list))\n",
        "out_file.close()"
      ],
      "metadata": {
        "id": "isUx0lH7As0g"
      },
      "execution_count": 36,
      "outputs": []
    },
    {
      "cell_type": "code",
      "source": [
        "! zip -q -r -0 /content/drive/MyDrive/UNC/S2022P/GBIF_O_21_fourth.zip /content/dataset"
      ],
      "metadata": {
        "id": "cvl08l8WGpDO"
      },
      "execution_count": 37,
      "outputs": []
    },
    {
      "cell_type": "code",
      "source": [
        ""
      ],
      "metadata": {
        "id": "GeyMCCTgJNqY"
      },
      "execution_count": null,
      "outputs": []
    }
  ]
}